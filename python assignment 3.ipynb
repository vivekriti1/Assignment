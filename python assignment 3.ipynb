{
 "cells": [
  {
   "cell_type": "markdown",
   "metadata": {},
   "source": [
    "1.1 Write a Python Program to implement your own myreduce() function which works exactly\n",
    "like Python's built-in function reduce()"
   ]
  },
  {
   "cell_type": "code",
   "execution_count": 9,
   "metadata": {},
   "outputs": [
    {
     "name": "stdout",
     "output_type": "stream",
     "text": [
      "Enter the number10\n",
      "Prime numbers till 10 : [2, 3, 5, 7]\n",
      "Addition of the prime numbers till 10 : 17\n"
     ]
    }
   ],
   "source": [
    "def myreduce(num):\n",
    "    b=[]\n",
    "    sum_prime=0\n",
    "    for i in range(2,num):\n",
    "        if num>1:\n",
    "            for j in range(2,i):\n",
    "                if (i%j)==0:\n",
    "                  break\n",
    "            else:\n",
    "                a=i\n",
    "                b.append(a)\n",
    "                sum_prime+=a\n",
    "    print(\"Prime numbers till\",num,\":\",b)\n",
    "    print(\"Addition of the prime numbers till\",num,\":\",sum_prime)\n",
    "    \n",
    "num=int(input(\"Enter the number\"))                \n",
    "myreduce(num)\n"
   ]
  },
  {
   "cell_type": "markdown",
   "metadata": {},
   "source": [
    "1.2 Write a Python program to implement your own myfilter() function which works exactly\n",
    "like Python's built-in function filter()"
   ]
  },
  {
   "cell_type": "code",
   "execution_count": 11,
   "metadata": {},
   "outputs": [
    {
     "name": "stdout",
     "output_type": "stream",
     "text": [
      "Enter the number21\n",
      "List of multiples of 21 : [7, 14, 21]\n",
      "List of even numbers,which are multiple of  21 : [14]\n"
     ]
    }
   ],
   "source": [
    "\n",
    "\n",
    "numb=int(input(\"Enter the number\"))\n",
    "numb_lst=list(range(1,numb+1))\n",
    "\n",
    "\n",
    "def myfilter(numb):\n",
    "    even_mul=[]\n",
    "    is_mul=[]\n",
    "    \n",
    "    for i in numb_lst:\n",
    "        if i%7==0:\n",
    "            is_mul.append(i)\n",
    "            if i%2==0:\n",
    "                even_mul.append(i)\n",
    "        \n",
    "            \n",
    "    return even_mul,is_mul\n",
    "\n",
    "c=myfilter(numb)\n",
    "\n",
    "print(\"List of multiples of\",numb, \":\",c[1])\n",
    "print(\"List of even numbers,which are multiple of \",numb, \":\",c[0])\n",
    "            \n"
   ]
  },
  {
   "cell_type": "markdown",
   "metadata": {},
   "source": [
    "2. Implement List comprehensions to produce the following lists.\n",
    "\n",
    "2.1   ['x', 'xx', 'xxx', 'xxxx', 'y', 'yy', 'yyy', 'yyyy', 'z', 'zz', 'zzz', 'zzzz']"
   ]
  },
  {
   "cell_type": "code",
   "execution_count": 1,
   "metadata": {},
   "outputs": [
    {
     "name": "stdout",
     "output_type": "stream",
     "text": [
      "['x', 'xx', 'xxx', 'xxxx', 'y', 'yy', 'yyy', 'yyyy', 'z', 'zz', 'zzz', 'zzzz']\n"
     ]
    }
   ],
   "source": [
    "l=['x','y','z']\n",
    "res=[i*j for i in l for j in range(1,5)]\n",
    "print(res)"
   ]
  },
  {
   "cell_type": "markdown",
   "metadata": {},
   "source": [
    "2.2   ['x', 'y', 'z', 'xx', 'yy', 'zz', 'xxx', 'yyy', 'zzz', 'xxxx', 'yyyy', 'zzzz']"
   ]
  },
  {
   "cell_type": "code",
   "execution_count": 2,
   "metadata": {},
   "outputs": [
    {
     "name": "stdout",
     "output_type": "stream",
     "text": [
      "['x', 'y', 'z', 'xx', 'yy', 'zz', 'xxx', 'yyy', 'zzz', 'xxxx', 'yyyy', 'zzzz']\n"
     ]
    }
   ],
   "source": [
    "res_1=[i*j for j in range(1,5) for i in l]\n",
    "print(res_1)"
   ]
  },
  {
   "cell_type": "markdown",
   "metadata": {},
   "source": [
    "2.3   [[2], [3], [4], [3], [4], [5], [4], [5], [6]]"
   ]
  },
  {
   "cell_type": "code",
   "execution_count": 106,
   "metadata": {},
   "outputs": [
    {
     "name": "stdout",
     "output_type": "stream",
     "text": [
      "[[2], [3], [4], [3], [4], [5], [4], [5], [6]]\n"
     ]
    }
   ],
   "source": [
    "lst1=[2,3,4]\n",
    "lst2=[[i+j] for i in lst1 for j in range(0,3)]\n",
    "print(lst2)"
   ]
  },
  {
   "cell_type": "markdown",
   "metadata": {},
   "source": [
    "2.4  [[2, 3, 4, 5], [3, 4, 5, 6],[4, 5, 6, 7], [5, 6, 7, 8]]"
   ]
  },
  {
   "cell_type": "code",
   "execution_count": 118,
   "metadata": {},
   "outputs": [
    {
     "name": "stdout",
     "output_type": "stream",
     "text": [
      "[[2, 3, 4, 5], [3, 4, 5, 6], [4, 5, 6, 7], [5, 6, 7, 8]]\n"
     ]
    }
   ],
   "source": [
    "lst3=[2,3,4,5]\n",
    "lst4=[[i+j for i in lst3] for j in range(0,4)]\n",
    "print(lst4)"
   ]
  },
  {
   "cell_type": "markdown",
   "metadata": {},
   "source": [
    "2.5  [(1, 1), (2, 1), (3, 1), (1, 2), (2, 2), (3, 2), (1, 3), (2, 3), (3, 3)]"
   ]
  },
  {
   "cell_type": "code",
   "execution_count": 132,
   "metadata": {},
   "outputs": [
    {
     "name": "stdout",
     "output_type": "stream",
     "text": [
      "[(1, 1), (2, 1), (3, 1), (1, 2), (2, 2), (3, 2), (1, 3), (2, 3), (3, 3)]\n"
     ]
    }
   ],
   "source": [
    "lst5=[1,2,3]\n",
    "lst6=[(j,i) for i in lst5 for j in lst5 ]\n",
    "print(lst6)"
   ]
  }
 ],
 "metadata": {
  "kernelspec": {
   "display_name": "Python 3",
   "language": "python",
   "name": "python3"
  },
  "language_info": {
   "codemirror_mode": {
    "name": "ipython",
    "version": 3
   },
   "file_extension": ".py",
   "mimetype": "text/x-python",
   "name": "python",
   "nbconvert_exporter": "python",
   "pygments_lexer": "ipython3",
   "version": "3.8.3"
  }
 },
 "nbformat": 4,
 "nbformat_minor": 4
}
